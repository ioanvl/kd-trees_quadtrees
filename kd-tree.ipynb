{
 "metadata": {
  "language_info": {
   "codemirror_mode": {
    "name": "ipython",
    "version": 3
   },
   "file_extension": ".py",
   "mimetype": "text/x-python",
   "name": "python",
   "nbconvert_exporter": "python",
   "pygments_lexer": "ipython3",
   "version": "3.7.9-final"
  },
  "orig_nbformat": 2,
  "kernelspec": {
   "name": "python3",
   "display_name": "Python 3",
   "language": "python"
  }
 },
 "nbformat": 4,
 "nbformat_minor": 2,
 "cells": [
  {
   "cell_type": "code",
   "execution_count": 1,
   "metadata": {},
   "outputs": [],
   "source": [
    "import random"
   ]
  },
  {
   "cell_type": "code",
   "execution_count": 2,
   "metadata": {},
   "outputs": [],
   "source": [
    "class kd_node():\n",
    "    def __init__(self, x: float, y: float, dim=0):\n",
    "        self.x = x\n",
    "        self.y = y\n",
    "        self.dim = dim\n",
    "\n",
    "        self.branches = {\n",
    "            'up': None,\n",
    "            'low': None\n",
    "        }\n",
    "\n",
    "    def add_element(self, x, y):\n",
    "        flag = 'low'\n",
    "        if self.dim == 0:\n",
    "            if x >= self.x:\n",
    "                flag = 'up'\n",
    "        else:\n",
    "            if y >= self.y:\n",
    "                flag = 'up'\n",
    "        \n",
    "        if self.branches[flag] is None :\n",
    "            dim = (self.dim + 1) % 2\n",
    "            self.branches[flag] = kd_node(x, y, dim)\n",
    "        else:\n",
    "            self.branches[flag].add_element(x, y)\n",
    "\n",
    "    def print(self, lv=0):\n",
    "        print(f\"[{self.x}, {self.y}]\", end='')\n",
    "        flag = False\n",
    "        for x in self.branches:\n",
    "            if self.branches[x] is not None:\n",
    "                flag = True\n",
    "                break\n",
    "        if not flag:\n",
    "            print('')\n",
    "            return\n",
    "        else:\n",
    "            print(':')\n",
    "            for x in self.branches:\n",
    "                blank = ''\n",
    "                for i in range(lv+1):\n",
    "                    blank += '  '\n",
    "                print(f\"{blank}{x}:\", end='')\n",
    "                \n",
    "                if self.branches[x] is None:\n",
    "                    print(\"-null-\")\n",
    "                else:\n",
    "                    self.branches[x].print(lv+1)\n",
    "\n",
    "        "
   ]
  },
  {
   "cell_type": "code",
   "execution_count": null,
   "metadata": {},
   "outputs": [],
   "source": []
  },
  {
   "cell_type": "code",
   "execution_count": 3,
   "metadata": {},
   "outputs": [],
   "source": [
    "kdtree = kd_node(random.random(),random.random())"
   ]
  },
  {
   "cell_type": "code",
   "execution_count": 4,
   "metadata": {},
   "outputs": [
    {
     "output_type": "stream",
     "name": "stdout",
     "text": [
      "(44, 19)\n(95, 89)\n(66, 71)\n(71, 57)\n(55, 23)\n(14, 87)\n(46, 32)\n(8, 92)\n(33, 6)\n(31, 80)\n(47, 36)\n(24, 67)\n(67, 24)\n(53, 53)\n(57, 53)\n(33, 21)\n(76, 13)\n(34, 78)\n(75, 27)\n(6, 25)\n(64, 8)\n(65, 21)\n(83, 53)\n(27, 17)\n(55, 7)\n(39, 24)\n(99, 54)\n(81, 37)\n(43, 25)\n(17, 69)\n(65, 62)\n(41, 5)\n(56, 73)\n(93, 13)\n(76, 24)\n(33, 71)\n(99, 57)\n(64, 39)\n(51, 45)\n(46, 52)\n(86, 35)\n(57, 97)\n(25, 67)\n(83, 47)\n(47, 82)\n(26, 5)\n(14, 92)\n(56, 2)\n(74, 50)\n(85, 66)\n(16, 83)\n(57, 72)\n(3, 86)\n(82, 5)\n(94, 10)\n(65, 46)\n(58, 54)\n(64, 92)\n(38, 88)\n(92, 2)\n(39, 89)\n(38, 59)\n(14, 8)\n(44, 95)\n(77, 62)\n(55, 26)\n(82, 25)\n(39, 48)\n(55, 81)\n(81, 72)\n(50, 91)\n(20, 12)\n(49, 42)\n(88, 91)\n(79, 59)\n(13, 66)\n(99, 63)\n(81, 59)\n(92, 43)\n(29, 91)\n(13, 40)\n(32, 9)\n(87, 29)\n(42, 29)\n(41, 23)\n(53, 15)\n(52, 22)\n(86, 41)\n(36, 17)\n(73, 16)\n(88, 49)\n(1, 16)\n(41, 24)\n(71, 23)\n(14, 69)\n(77, 51)\n(81, 21)\n(25, 45)\n(79, 35)\n(28, 23)\n"
     ]
    }
   ],
   "source": [
    "for i in range(100):\n",
    "    x = random.random()\n",
    "    y = random.random()\n",
    "    print(f\"({x}, {y})\")\n",
    "    kdtree.add_element(x, y)\n"
   ]
  },
  {
   "cell_type": "code",
   "execution_count": 5,
   "metadata": {},
   "outputs": [
    {
     "output_type": "stream",
     "name": "stdout",
     "text": [
      "[90, 88]:\n  up:[95, 89]:\n    up:-null-\n    low:[99, 54]:\n      up:[99, 57]:\n        up:[99, 63]\n        low:-null-\n      low:[93, 13]:\n        up:[92, 43]\n        low:[94, 10]:\n          up:-null-\n          low:[92, 2]\n  low:[44, 19]:\n    up:[66, 71]:\n      up:[71, 57]:\n        up:[85, 66]:\n          up:[88, 91]\n          low:[77, 62]:\n            up:[81, 72]\n            low:[79, 59]:\n              up:[81, 59]\n              low:-null-\n        low:[67, 24]:\n          up:[75, 27]:\n            up:[83, 53]:\n              up:[86, 35]:\n                up:[83, 47]:\n                  up:[86, 41]:\n                    up:[88, 49]\n                    low:-null-\n                  low:-null-\n                low:[87, 29]\n              low:[81, 37]:\n                up:[74, 50]:\n                  up:[77, 51]\n                  low:-null-\n                low:[79, 35]\n            low:[76, 24]:\n              up:[82, 25]:\n                up:-null-\n                low:[81, 21]\n              low:[71, 23]\n          low:-null-\n      low:[55, 23]:\n        up:[14, 87]:\n          up:[46, 32]:\n            up:[31, 80]:\n              up:[47, 36]:\n                up:[53, 53]:\n                  up:[57, 53]:\n                    up:[65, 62]:\n                      up:-null-\n                      low:[56, 73]:\n                        up:[57, 97]:\n                          up:[64, 92]\n                          low:[55, 81]\n                        low:[57, 72]:\n                          up:[58, 54]\n                          low:-null-\n                    low:[64, 39]:\n                      up:[65, 46]\n                      low:-null-\n                  low:[34, 78]:\n                    up:[47, 82]:\n                      up:[50, 91]\n                      low:[38, 88]:\n                        up:[39, 89]:\n                          up:[44, 95]\n                          low:-null-\n                        low:-null-\n                    low:[33, 71]:\n                      up:[51, 45]:\n                        up:[46, 52]:\n                          up:-null-\n                          low:[38, 59]:\n                            up:-null-\n                            low:[39, 48]\n                        low:[49, 42]\n                      low:-null-\n                low:-null-\n              low:[24, 67]:\n                up:[17, 69]:\n                  up:[25, 67]:\n                    up:[29, 91]\n                    low:-null-\n                  low:[14, 92]:\n                    up:-null-\n                    low:[16, 83]:\n                      up:-null-\n                      low:[14, 69]\n                low:[25, 45]\n            low:[39, 24]:\n              up:[43, 25]:\n                up:[55, 26]:\n                  up:-null-\n                  low:[42, 29]\n                low:[41, 23]:\n                  up:[41, 24]\n                  low:-null-\n              low:[28, 23]\n          low:[8, 92]:\n            up:-null-\n            low:[6, 25]:\n              up:[13, 66]:\n                up:-null-\n                low:[13, 40]\n              low:[3, 86]\n        low:[33, 21]:\n          up:[65, 21]:\n            up:[52, 22]\n            low:-null-\n          low:-null-\n    low:[33, 6]:\n      up:[76, 13]:\n        up:[53, 15]:\n          up:[73, 16]\n          low:[36, 17]\n        low:[64, 8]:\n          up:[82, 5]\n          low:[55, 7]:\n            up:-null-\n            low:[41, 5]:\n              up:[56, 2]\n              low:-null-\n      low:[27, 17]:\n        up:-null-\n        low:[26, 5]:\n          up:[32, 9]\n          low:[14, 8]:\n            up:[20, 12]:\n              up:-null-\n              low:[1, 16]\n            low:-null-\n"
     ]
    }
   ],
   "source": [
    "kdtree.print()"
   ]
  },
  {
   "cell_type": "code",
   "execution_count": null,
   "metadata": {},
   "outputs": [],
   "source": []
  }
 ]
}